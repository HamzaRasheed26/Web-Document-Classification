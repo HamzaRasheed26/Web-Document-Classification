{
  "cells": [
    {
      "cell_type": "markdown",
      "metadata": {
        "id": "_-dPXCb5Po7v"
      },
      "source": [
        "# **Classification of Documents Using Graph-Based Features and KNN**"
      ]
    },
    {
      "cell_type": "markdown",
      "metadata": {
        "id": "jFr_VvdfP1Q4"
      },
      "source": [
        "## **1. Data Collection and Preparation:**\n",
        "Collect or create 15 pages of text for each of the three assigned topics, ensuring each\n",
        "page contains approximately 500 words."
      ]
    },
    {
      "cell_type": "markdown",
      "metadata": {
        "id": "aeZtatnEQ1zK"
      },
      "source": [
        "**Import necessary libraries**"
      ]
    },
    {
      "cell_type": "code",
      "execution_count": 2,
      "metadata": {
        "id": "k_RulPVWPUzT"
      },
      "outputs": [],
      "source": [
        "import requests\n",
        "from bs4 import BeautifulSoup\n",
        "import os\n",
        "import json\n",
        "import csv"
      ]
    },
    {
      "cell_type": "markdown",
      "metadata": {
        "id": "_sn_JaewRN0W"
      },
      "source": [
        "**Function to scrape articles links from a given URL**"
      ]
    },
    {
      "cell_type": "code",
      "execution_count": 3,
      "metadata": {
        "id": "vQ9soLtARF6U"
      },
      "outputs": [],
      "source": [
        "def scrape_articles_links(url):\n",
        "    try:\n",
        "        response = requests.get(url)\n",
        "        soup = BeautifulSoup(response.text, 'html.parser')\n",
        "        articles = soup.find('section', class_='o-ListArticle')\n",
        "        links = [\"https:\" + a['href'] for a in articles.find_all('a', href=True)]\n",
        "        return links\n",
        "    except Exception as e:\n",
        "        print(f\"Error scraping links from {url}: {e}\")\n",
        "        return None"
      ]
    },
    {
      "cell_type": "markdown",
      "metadata": {
        "id": "tOiD3I6nRi8W"
      },
      "source": [
        "**Function to process links**"
      ]
    },
    {
      "cell_type": "code",
      "execution_count": 4,
      "metadata": {
        "id": "lH4kiRsTRtnv"
      },
      "outputs": [],
      "source": [
        "def process_links(articles_links):\n",
        "    links = []\n",
        "    for i in range(0,len(articles_links),2):\n",
        "        if articles_links[i] == \"https:#\" or articles_links[i].startswith(\"https://www.foodnetwork.com/healthy/articles/p\"):\n",
        "            break\n",
        "        links.append(articles_links[i])\n",
        "    return links"
      ]
    },
    {
      "cell_type": "markdown",
      "metadata": {
        "id": "iHHHpdrkR51_"
      },
      "source": [
        "**Function to scrape data from a given URL**"
      ]
    },
    {
      "cell_type": "code",
      "execution_count": 5,
      "metadata": {
        "id": "ZvwFtq9DR_zC"
      },
      "outputs": [],
      "source": [
        "def scrape_data(url):\n",
        "    article = {}\n",
        "    try:\n",
        "        response = requests.get(url)\n",
        "        soup = BeautifulSoup(response.text, 'html.parser')\n",
        "        article_content = soup.find('article', class_='article-content')\n",
        "        if article_content:\n",
        "            article['title'] = article_content.find('div', class_='assetTitle').get_text().replace('\\n', '')\n",
        "            body = article_content.find('div', class_='article-body')\n",
        "            paras = body.find_all('div', class_='customRTE smartbody-core section')\n",
        "            article['body'] = ' '.join([p.get_text() for p in paras]).replace('\\n', '')\n",
        "            article['words_count'] = len(article['body'].split())\n",
        "        return article\n",
        "    except Exception as e:\n",
        "        print(f\"Error scraping data from {url}: {e}\")\n",
        "        return None"
      ]
    },
    {
      "cell_type": "markdown",
      "metadata": {
        "id": "xu3Kl8BHSSg3"
      },
      "source": [
        "**Function to save scraped data (dictionary) to a file as JSON format**"
      ]
    },
    {
      "cell_type": "code",
      "execution_count": 6,
      "metadata": {
        "id": "mBk5EEyKSViD"
      },
      "outputs": [],
      "source": [
        "def save_to_json(data, filename):\n",
        "    try:\n",
        "        with open(filename, 'w', encoding='utf-8') as f:\n",
        "            json.dump(data, f, ensure_ascii=False, indent=4)\n",
        "        print(f\"Data saved to {filename}\")\n",
        "    except Exception as e:\n",
        "        print(f\"Error saving data to {filename}: {e}\")"
      ]
    },
    {
      "cell_type": "markdown",
      "metadata": {
        "id": "_Sy0hcwiTkkY"
      },
      "source": [
        "**Function to save scraped data (dictionary) to a file as CSV format**"
      ]
    },
    {
      "cell_type": "code",
      "execution_count": 7,
      "metadata": {
        "id": "7mGpAYEETp_M"
      },
      "outputs": [],
      "source": [
        "def save_to_csv(data, filename):\n",
        "  try:\n",
        "    with open(filename, 'w', newline='', encoding='utf-8') as csvfile:\n",
        "      fieldnames = ['title', 'body', 'words_count']\n",
        "      writer = csv.DictWriter(csvfile, fieldnames=fieldnames)\n",
        "      writer.writeheader()\n",
        "      for article in data:\n",
        "          writer.writerow({'title': article['title'], 'body': article['body'], 'words_count': article['words_count']})\n",
        "    print(f\"Data saved to {filename}\")\n",
        "  except Exception as e:\n",
        "        print(f\"Error saving data to {filename}: {e}\")"
      ]
    },
    {
      "cell_type": "markdown",
      "metadata": {
        "id": "DUv3Gb25SqHg"
      },
      "source": [
        "**Main function to scrape articles**"
      ]
    },
    {
      "cell_type": "code",
      "execution_count": 8,
      "metadata": {
        "id": "smz9FQVRSref"
      },
      "outputs": [],
      "source": [
        "def scrape_articles(url_base, pages, min_articles):\n",
        "    articles_data = []\n",
        "    articles_count = 0\n",
        "    for i in range(1, pages + 1):\n",
        "        url = f\"{url_base}/p/{i}\"\n",
        "        print(url)\n",
        "        articles_links = scrape_articles_links(url)\n",
        "        links = process_links(articles_links)\n",
        "        for link in links:\n",
        "            data = scrape_data(link)\n",
        "            if data and data.get('words_count', 0) > 500:\n",
        "                print(f\"Article {articles_count + 1} - {data['title']} - {data['words_count']} words\")\n",
        "                articles_data.append({'index': articles_count + 1, 'label': 'Food', **data})\n",
        "                articles_count += 1\n",
        "                if articles_count >= min_articles:\n",
        "                    return articles_data\n",
        "    return articles_data"
      ]
    },
    {
      "cell_type": "markdown",
      "metadata": {
        "id": "Cb3ixf_dSzHL"
      },
      "source": [
        "Main function"
      ]
    },
    {
      "cell_type": "code",
      "execution_count": 9,
      "metadata": {
        "colab": {
          "base_uri": "https://localhost:8080/"
        },
        "id": "lSbMQOgHS03T",
        "outputId": "d13519ca-1b34-4423-9111-c6df51a135fc"
      },
      "outputs": [
        {
          "name": "stdout",
          "output_type": "stream",
          "text": [
            "https://www.foodnetwork.com/healthy/articles/p/1\n",
            "Article 1 - Now Trending: Smoothie-Delivery Programs - 503 words\n",
            "Article 2 - Scalloped Potatoes with Blue Cheese and Mushrooms - 611 words\n",
            "Article 3 - Reading List: Red Meat Gets The Green Light, Chemicals in Canned Foods and Fast Food Facts - 513 words\n",
            "Article 4 - 6 Surprising Tips for Cooking with Kids - 684 words\n",
            "Article 5 - This Is the Right Internal Temperature for Cooked Chicken - 854 words\n",
            "Article 6 - What Is Cutting and Bulking? And Should You Do It? - 670 words\n",
            "Article 7 - Summer Fest: Cool Cucumber Soup - 562 words\n",
            "https://www.foodnetwork.com/healthy/articles/p/2\n",
            "Article 8 - No, California Is Not Banning Skittles - 810 words\n",
            "Article 9 - When Cravings Call, What Are They Saying? - 548 words\n",
            "Article 10 - This Week's Nutrition News Feed - 503 words\n",
            "https://www.foodnetwork.com/healthy/articles/p/3\n",
            "Article 11 - Feed Your Brain: 4 Healthy Foods with Brain-Boosting Nutrients - 686 words\n",
            "Article 12 - Please! For the Love of Food Safety, Stop Washing Your Chicken - 680 words\n",
            "Article 13 - Blogger Spotlight: Lindsay Nixon from Happy Herbivore - 727 words\n",
            "Article 14 - Iron Chef Jose Garces’ Healthy Tips for Kids - 865 words\n",
            "Article 15 - Summer Fest: The Fresh-for-Once Tomato - 555 words\n",
            "Data saved to articles/food_articles.json\n",
            "Data saved to articles/food_articles.csv\n"
          ]
        }
      ],
      "source": [
        "food_url = 'https://www.foodnetwork.com/healthy/articles'\n",
        "pages = 5  # Number of pages to scrape\n",
        "min_articles = 15  # Minimum number of articles to scrape\n",
        "articles_data = scrape_articles(food_url, pages, min_articles)\n",
        "os.makedirs(\"articles\", exist_ok=True)\n",
        "# Save to JSON file\n",
        "output_file = 'articles/food_articles.json'\n",
        "save_to_json(articles_data, output_file)\n",
        "# Save to CSV file\n",
        "output_file = 'articles/food_articles.csv'\n",
        "save_to_csv(articles_data, output_file)"
      ]
    },
    {
      "cell_type": "markdown",
      "metadata": {},
      "source": [
        "Divide the dataset into a training set (12 pages per topic) and a test set (3 pages per \n",
        "topic)."
      ]
    },
    {
      "cell_type": "code",
      "execution_count": 10,
      "metadata": {},
      "outputs": [
        {
          "name": "stdout",
          "output_type": "stream",
          "text": [
            "Training set size: 12\n",
            "Test set size: 3\n"
          ]
        }
      ],
      "source": [
        "# from sklearn.model_selection import train_test_split\n",
        "\n",
        "# Split the dataset into training set and test set\n",
        "# train_set, test_set = train_test_split(articles_data, test_size=0.2, random_state=42)\n",
        "train_set = articles_data[:12]\n",
        "test_set = articles_data[12:]\n",
        "\n",
        "# Print the number of articles in each set\n",
        "print(\"Training set size:\", len(train_set))\n",
        "print(\"Test set size:\", len(test_set))"
      ]
    },
    {
      "cell_type": "markdown",
      "metadata": {},
      "source": [
        "## **2. Preprocessing**\n",
        "Preprocessing such as tokenization, stop-word removal, and stemming"
      ]
    },
    {
      "cell_type": "code",
      "execution_count": 11,
      "metadata": {},
      "outputs": [],
      "source": [
        "import nltk\n",
        "from nltk.corpus import stopwords\n",
        "from nltk.stem import PorterStemmer"
      ]
    },
    {
      "cell_type": "code",
      "execution_count": 12,
      "metadata": {},
      "outputs": [],
      "source": [
        "# Tokenization\n",
        "def tokenize(text):\n",
        "    return nltk.word_tokenize(text)\n",
        "\n",
        "# Stop-word removal\n",
        "def remove_stopwords(tokens):\n",
        "    stop_words = set(stopwords.words('english'))\n",
        "    filtered_tokens = [token for token in tokens if token.lower() not in stop_words]\n",
        "    return filtered_tokens\n",
        "\n",
        "# Stemming\n",
        "def stem_tokens(tokens):\n",
        "    stemmer = PorterStemmer()\n",
        "    stemmed_tokens = [stemmer.stem(token) for token in tokens]\n",
        "    return stemmed_tokens"
      ]
    },
    {
      "cell_type": "code",
      "execution_count": 13,
      "metadata": {},
      "outputs": [
        {
          "name": "stdout",
          "output_type": "stream",
          "text": [
            "Article: 1\n",
            "Label: Food\n",
            "Title Tokens: ['trend', ':', 'smoothie-deliveri', 'program']\n",
            "Body Tokens: ['popular', 'home-deliveri', 'cook', 'servic', 'continu', 'grow', '.', 'think', 'beyond', 'meal', 'program', ':', 'smoothi', 'juic', 'lover', 'get', 'action', '.', 'took', 'most-popular', 'option', 'whirl', 'blender', '.', 'smoothi', 'nutrit', 'smoothi', 'healthi', 'eat', ',', 'mind', 'ingredi', 'portion', 'size', ';', 'even', 'much', 'healthi', 'food', 'lead', 'excess', 'calori', '.', 'smoothi', 'tri', 'contain', 'anywher', '40', '200', 'calori', 'per', 'serv', 'vari', 'significantli', 'total', 'healthi', 'fat', ',', 'fiber', 'carbohydr', ',', 'depend', 'ingredi', '.', 'sinc', 'smoothi', 'made', 'noth', 'whole', 'food', ',', 'ad', 'sugar', '’', 'realli', 'concern', '.', 'order', ',', 'price', 'deliveri', 'place', 'order', 'super-easi', '.', 'brand', 'like', 'green', 'blender', 'daili', 'harvest', 'user-friendli', 'websit', 'get', 'smoothi', 'door', 'click', '.', 'price', 'rang', '$', '7', '$', '9', 'per', 'smoothi', '(', '$', '3.50', '$', '4.50', 'per', 'serv', ')', 'depend', 'plan', 'select', '.', 'signific', 'differ', 'brand', ',', 'research', 'decid', 'best', 'fit', 'lifestyl', '.', 'green', 'blender', ',', 'much', 'like', 'mani', 'popular', 'meal-deliv', 'program', ',', 'come', 'ingredi', 'individu', 'wrap', 'label', '.', 'produc', 'requir', 'wash', 'use', ',', 'shipment', 'includ', 'bundl', 'packet', 'featur', 'add-in', 'like', 'pea', 'protein', 'powder', ',', 'wheatgrass', ',', 'cinnamon', ',', 'dri', 'fruit', 'chop', 'nut', '.', 'fresh', 'food', 'certainli', 'desir', ',', 'requir', 'extra', 'elbow', 'greas', 'prep', 'store', 'week', '.', 'daili', 'harvest', 'smoothi', 'arriv', 'premeasur', 'frozen', 'cup', 'pack', 'dri', 'ice', '.', 'open', 'add', 'blender', 'water', 'recommend', 'liquid', '(', 'includ', ')', '.', 'contain', 'serv', 'doubl', 'duti', 'cup', ',', 'pour', 'prepar', 'smoothi', 'back', '(', 'clever', ')', '.', 'fresh', 'flavor', 'green', 'blender', '’', 'kit', 'includ', 'recip', 'sheet', 'smoothi', ',', 'well', 'guid', 'use', 'tip', 'perfect', 'blend', '.', 'la', 'cart', 'ingredi', 'allow', 'user', 'omit', 'certain', 'element', 'desir', '.', 'love', 'fresh', 'ingredi', 'uniqu', 'flavor', 'combo', '.', 'best', 'flavor', 'tri', 'goji', 'cranberri', 'crimson', '(', 'pictur', ')', ',', 'made', 'acai', 'berri', 'mandarin', 'orang', ',', 'persimmon', 'pineappl', 'protein', ',', 'featur', 'yellow', 'squash', 'flaxse', '.', 'daili', 'harvest', 'suggest', 'varieti', 'liquid', '—', 'includ', 'water', ',', 'coconut', 'water', 'almond', 'milk', '—', 'mix', 'frozen', 'ingredi', '.', 'matcha', 'colada', '(', 'left', ')', 'kale', ',', 'lime', 'vanilla', 'tremend', 'blend', 'coconut', 'water', ',', 'cacao', 'kapow', '(', 'right', ')', 'avocado', 'pink', 'himalayan', 'sea', 'salt', 'creami', 'plenti', 'chocolatey', 'blend', 'almond', 'milk', '.', 'fast', 'prepar', 'delight', 'mindless', ',', 'choos', 'favorit', 'liquid', ',', \"n't\", 'flexibl', 'omit', 'ingredi', '.', 'choos', 'exactli', 'smoothi', 'want', 'deliveri', 'cycl', ',', \"n't\", 'case', 'program', '.', 'dana', 'angelo', 'white', ',', 'ms', ',', 'rd', ',', 'atc', ',', 'regist', 'dietitian', ',', 'certifi', 'athlet', 'trainer', 'owner', 'dana', 'white', 'nutrit', ',', 'inc.', ',', 'special', 'culinari', 'sport', 'nutrit', '.']\n",
            "Words Count: 379\n",
            "\n",
            "Article: 2\n",
            "Label: Food\n",
            "Title Tokens: ['scallop', 'potato', 'blue', 'chees', 'mushroom']\n",
            "Body Tokens: ['layer', 'layer', 'warm', 'cheesi', 'potato', '—', '’', 'pretti', 'much', 'classic', 'definit', 'comfort', 'food', '.', ',', 'butteri', 'yellow-skin', 'potato', 'thickli', 'slice', 'mushroom', 'drench', '10-minut', 'cream', 'sauc', 'sprinkl', 'rich', 'blue', 'chees', '.', 'past', 'decad', ',', 'scallop', 'potato', 'dinner', 'rotat', 'casserol', '.', 'scallop', 'potato', 'blue', 'chees', 'mushroom', 'updat', 'modern', 'tast', ',', 'featur', 'trick', 'make', 'lighter', 'cream-drench', '``', 'cover', 'dish', \"''\", 'past', '.', '’', 'stir', ':', 'yukon', 'gold', 'potato', 'thin-skin', 'potato', 'tast', 'butteri', 'even', 'without', 'addit', 'dairi', '.', 'leav', 'skin', 'up', 'flavor', 'nutrit', '.', 'blue', 'chees', 'grandma', 'probabl', '’', 'add', 'blue', 'chees', 'hot', 'dish', ';', 'use', 'umami-rich', 'chees', 'pack', 'intens', 'flavor', 'throughout', 'recip', ',', 'use', 'half-cup', 'chees', '.', 'babi', 'bella', 'mushroom', 'also', 'known', '``', 'cremini', ',', \"''\", 'meati', 'mushroom', 'slice', 'thick', 'give', 'solid', 'structur', ',', 'make', 'scallop', 'potato', 'hearti', 'enough', 'serv', 'meatless', 'meal', '.', 'also', ',', 'mushroom', 'contain', 'vitamin', ',', 'may', 'help', 'improv', 'mood', 'daytim', 'sunshin', 'becom', 'spars', '.', 'lastli', ',', 'updat', 'casserol', 'serv', 'cast-iron', 'skillet', '—', 'nod', '``', '’', 'old', 'new', '.', \"''\", 'could', 'also', 'use', 'larg', 'oven-saf', 'saut', 'pan', '.', 'use', 'larg', 'skillet', 'make', 'conveni', 'one-pot', 'meal', '.', 'grab', 'friend', '—', 'blue-cheese-lov', 'famili', 'member', '—', 'serv', 'cozi', 'dish', 'alongsid', 'contrast', 'crisp', ',', 'green', 'salad', 'dress', 'tart', ',', 'citru', 'dress', '.', 'add', 'dessert', '’', 'got', 'fine', 'meal', '.', 'choos', 'add', 'lean', 'meat', ',', 'beef', 'would', 'tasti', 'complement', '.', 'warm', 'comfort', 'food', ',', 'may', 'even', 'abl', 'shed', 'layer', 'scarv', 'sweater', '’', 'snuggl', 'tri', 'stay', 'warm', '.', 'scallop', 'potato', 'blue', 'chees', 'mushroom', 'make', '6', 'serv', 'ingredi', ':', '2', 'tablespoon', 'oil', '1/2', 'cup', 'chop', 'onion', '(', '1', 'small', ')', 'one', '8-ounc', 'packag', 'babi', 'bella', 'mushroom', ',', 'slice', '1/4-inch', 'slice', '2', 'clove', 'garlic', ',', 'minc', '2', 'tablespoon', 'all-purpos', 'flour', '1/4', 'teaspoon', 'freshli', 'ground', 'pepper', '1/4', 'teaspoon', 'salt', '1', '1/3', 'cup', 'reduced-fat', '(', '2', 'percent', ')', 'milk', '2', 'ounc', '(', '1/2', 'cup', ')', 'crumbl', 'blue', 'chees', ',', 'divid', '4', 'medium', '(', '1', '1/2', 'pound', ')', 'yukon', 'gold', 'potato', 'direct', ':', 'larg', 'cast-iron', 'skillet', 'saut', 'pan', ',', 'heat', 'oil', 'medium-high', 'heat', '.', 'add', 'onion', ';', 'cook', 'stir', '3', 'minut', '.', 'add', 'mushroom', 'garlic', ';', 'cook', 'stir', '4', 'minut', '.', 'sprinkl', 'flour', ',', 'pepper', 'salt', ';', 'cook', 'stir', '1', 'minut', '.', 'pour', 'milk', ';', 'cook', 'stir', 'medium', 'heat', 'thicken', 'bubbl', ',', '3', 'minut', '.', 'spoon', 'mushroom', 'sauc', 'heatproof', 'bowl', '.', '(', 'clean', 'skillet', '.', ')', 'reserv', '1', 'tablespoon', 'chees', ';', 'stir', 'remain', 'chees', 'warm', 'sauc', '.', 'slice', 'potato', '1/4-inch', 'thick', 'slice', ';', 'layer', 'half', 'potato', 'bottom', 'skillet', '.', 'cover', 'half', 'sauc', '.', 'repeat', 'potato', 'sauc', 'layer', '.', 'cover', 'tightli', 'aluminum', 'foil', '.', 'bake', '350', 'degre', 'f', 'oven', '40', 'minut', '.', 'remov', 'oven', ';', 'uncov', 'sprinkl', 'reserv', 'blue', 'chees', '.', 'bake', '20-30', 'minut', ',', 'potato', 'tender', '.', 'note', ':', 'slice', 'potato', 'right', 'use', 'prevent', 'turn', 'brown', '.', 'per', 'serv', ':', 'calori', '200', ';', 'fat', '9', 'g', '(', 'satur', '3', 'g', ')', ';', 'sodium', '271', 'mg', ';', 'carbohydr', '24', 'g', ';', 'fiber', '3', 'g', ';', 'sugar', '5', 'g', ';', 'protein', '7', 'g', 'serena', 'ball', ',', 'ms', ',', 'rd', ',', 'regist', 'dietitian', 'nutritionist', '.', 'blog', 'teaspoonofspice.com', 'share', 'tip', 'trick', 'help', 'reader', 'find', 'cook', 'shortcut', 'make', 'healthi', ',', 'homemad', 'meal', '.', 'recip', 'creat', 'famili', 'mind', '.', 'relat', 'link', ':', 'classic', 'comfort', 'food', ',', 'lighten', 'healthi', 'meal', 'makeov', 'new-school', 'spin', 'old-school', 'healthi', 'dish']\n",
            "Words Count: 528\n",
            "\n",
            "Article: 3\n",
            "Label: Food\n",
            "Title Tokens: ['read', 'list', ':', 'red', 'meat', 'get', 'green', 'light', ',', 'chemic', 'can', 'food', 'fast', 'food', 'fact']\n",
            "Body Tokens: ['week', '’', 'nutrit', 'news', ':', 'trendi', 'dark-color', 'food', 'take', 'menu', ',', 'ad', 'fiber', 'gener', 'mill', 'product', \"n't\", 'afraid', 'eat', 'juici', 'steak', 'burger', '.', 'red', 'meat', 'get', 'green', 'light', 'steak', 'lover', ',', 'rejoic', ':', 'red', 'meat', 'may', 'deserv', 'bad', 'wrap', \"'s\", 'gotten', 'mani', 'year', '.', 'new', 'harvard', 'studi', 'say', 'risk', 'heart', 'diseas', 'come', 'process', 'meat', '(', 'like', 'bacon', ',', 'cold', 'cut', 'hot', 'dog', ')', 'rather', 'unprocess', 'steak', 'burger', '.', 'folk', 'studi', 'ate', 'two', 'ounc', 'process', 'meat', 'day', '42', 'percent', 'like', 'develop', 'heart', 'diseas', ',', 'ate', 'four', 'ounc', 'red', 'meat', 'daili', 'increas', 'risk', '.', 'process', 'non-process', 'meat', 'contain', 'satur', 'fat', ',', 'contribut', 'heart', 'diseas', ',', 'studi', 'suggest', '’', 'salt', 'process', 'meat', 'may', '“', 'realli', 'bad', '”', 'culprit', '.', '’', 'take', 'red', 'meat', '?', 'alarm', 'amount', 'can', 'food', 'contain', 'bpa', '’', 'told', 'chemic', 'found', 'can', 'food', 'call', 'bpa', '’', 'link', 'cancer', '.', 'recent', 'studi', 'examin', 'much', 'bpa', \"'s\", 'metal', 'line', 'leach', 'food', '.', 'result', '?', 'whop', '92', 'percent', 'food', 'test', '(', 'includ', 'fruit', ',', 'veggi', ',', 'fish', 'bean', ')', 'contain', 'bpa', '.', 'studi', 'conclud', 'meal', 'prepar', 'variou', 'can', 'food', ',', 'lead', 'potenti', 'harm', 'level', 'bpa', '.', 'although', 'compani', 'use', 'bpa-fre', 'line', 'can', ',', 'mani', '.', 'fda', 'take', 'closer', 'look', 'issu', 'pledg', '$', '30', 'million', 'research', '.', 'fast', 'food', 'joint', 'print', 'calori', 'receipt', 'ever', 'wonder', 'mani', 'calori', 'meal', 'order', '?', 'burgervil', '(', 'fast', 'food', 'joint', 'pacif', 'northwest', ')', 'make', 'inform', 'readili', 'avail', '—', 'receipt', '!', '’', 'roll', 'new', 'receipt', 'system', '39', 'restaur', 'week', '.', 'although', 'first', 'fast', 'food', 'joint', 'use', 'system', ',', '“', 'smartreceipt', '”', 'alreadi', 'found', 'numer', 'hospit', 'cafeteria', '.', 'would', 'like', 'see', 'calori', 'food', 'order', '?', 'dark-color', 'food', 'new', 'black', 'follow', 'fashion', 'trend', ',', 'alway', 'hear', '“', 'new', 'black', '”', '.', 'instead', 'cloth', ',', '’', 'talk', 'food', '--', 'black', 'trumpet', 'mushroom', ',', 'black', 'garlic', ',', 'black', 'walnut', 'black', 'chickpea', 'food', 'appear', 'menu', 'across', 'countri', '.', 'read', 'fabul', 'dish', 'made', 'ingredi', '.', 'gener', 'mill', 'add', 'fiber', 'salt', 'tran', 'fat-cut', 'go', ',', 'gener', 'mill', 'actual', 'ad', 'ingredient—fib', '.', '’', 'ad', 'fiber', 'yogurt', ',', 'soup', 'breakfast', 'bar', '.', ',', 'fiber', 'benefit', 'natur', 'fiber', 'found', 'whole', 'grain', 'fresh', 'produc', '?', 'studi', '’', 'conclus', 'prove', 'fiber', 'equal', ',', 'eat', 'fiber', 'gener', 'huge', 'health', 'benefit', '.', 'read', 'type', 'fiber', 'much', 'realli', 'need', '.', 'tobi', 'amidor', ',', 'ms', ',', 'rd', ',', 'cdn', ',', 'regist', 'dietitian', 'consult', 'special', 'food', 'safeti', 'culinari', 'nutrit', '.', 'see', 'tobi', \"'s\", 'full', 'bio', '»']\n",
            "Words Count: 389\n",
            "\n",
            "Article: 4\n",
            "Label: Food\n",
            "Title Tokens: ['6', 'surpris', 'tip', 'cook', 'kid']\n",
            "Body Tokens: ['children', ',', 'see', 'frozen', 'red', 'raspberri', 'whizz', 'shockingli', 'pink', 'smoothi', ',', 'muffin', 'rise', 'oven', ',', 'fri', 'egg', 'yolk', 'turn', 'golden', 'light-salmon', 'color', \"n't\", 'educ', ';', \"'s\", 'magic', '.', 'cook', 'kid', 'messi', 'time-consum', ',', 'life', 'skill', 'children', 'learn', 'total', 'worth', 'effort', '.', 'mom', 'four', 'children', 'age', '5', '12', ',', \"'ve\", 'spent', 'lot', 'time', 'kitchen', 'kid', '.', 'six', 'tip', 'friend', 'find', 'surpris', ':', '1', '.', 'use', 'sharpest', 'knive', '.', 'dull', 'knive', 'actual', 'danger', 'sharp', 'knive', 'kid', 'adult', '.', 'sharp', 'knive', 'slide', 'smoothli', 'easili', 'food', '.', 'knife', 'accid', 'gener', 'occur', 'use', 'pressur', 'saw', 'way', 'slice', 'dull', 'knife', '.', \"'s\", 'also', 'knife', 'slippag', 'occur', '.', 'two', 'key', 'safeti', 'first', ':', 'monitor', 'children', 'make', 'certain', 'finger', 'stay', 'safe', 'distanc', 'blade', '.', 'second', ':', 'allow', 'children', 'slice', 'item', 'flat', 'surfac', 'sit', 'solidli', 'cut', 'board', ';', 'prep', 'round', 'food', 'like', 'onion', 'appl', 'halv', 'place', 'cut', 'board', 'cut-sid', 'food', 'sit', 'flat', '.', '2', '.', 'encourag', 'messi', '.', 'clean', 'go', 'wise', 'habit', 'encourag', '.', 'help', 'keep', 'child', \"'s\", 'work', 'space', 'clear', 'clutter', '.', 'found', 'hard', 'way', 'put', 'much', 'emphasi', 'cleanli', '.', 'ask', '8-year-old', \"n't\", 'help', 'kitchen', 'late', ',', 'told', \"n't\", 'want', 'upset', 'make', 'mess', '.', 'point', 'taken', '!', 'put', 'emphasi', 'clean-up', 'end', '.', '3', '.', 'let', 'kid', 'lick', 'beater', ',', 'spoon', 'finger', '.', 'lick', 'finger', 'fun', ',', 'help', 'children', 'experi', 'food', 'sens', '.', '(', 'remind', 'wash', 'hand', 'lick', 'finger', '.', ')', 'lick', 'beater', 'whip', 'cream', ',', 'ad', 'sugar', 'vanilla', 'experi', 'real', 'creami', '.', 'tast', 'spoon', 'soup', 'ad', 'salt', ';', 'children', 'like', 'soup', 'even', 'salt', ',', 'may', 'abl', 'add', 'less', 'salt', '.', '4', '.', 'eat', 'dessert', 'first', '.', 'noth', 'kill', 'joy', 'measur', 'mix', 'batch', 'oatmeal', 'cooki', 'like', 'told', \"'ll\", 'wait', 'dinner', 'tast', '.', \"'m\", 'dietitian', ',', \"'m\", 'still', 'big', 'believ', 'dessert', 'dinner', '.', 'kid', 'eat', 'dessert', 'dinner', ',', \"'s\", 'fine', ';', \"'s\", 'seen', 'compon', 'meal', ',', 'reward', 'eat', 'veggi', '.', 'also', ',', \"n't\", 'eat', 'dessert', 'end', 'meal', ',', 'tummi', 'might', 'alreadi', 'full', '.', '5', '.', 'touch', 'everyth', ',', 'even', 'raw', 'meat', 'egg', '.', 'teach', 'children', 'food', 'come', 'feel', '.', 'touch', 'dirt-encrust', 'veget', '.', 'discov', 'differ', 'feel', 'fresh', 'mushroom', 'gill', 'smooth', 'mushroom', 'top', '.', 'help', 'mix', 'meatloaf', 'squish', 'hand', 'raw', 'ground', 'meat', 'egg', '.', 'children', 'apt', 'tri', 'new', 'food', \"'ve\", 'invest', 'prepar', '.', '6', '.', \"n't\", 'wait', 'perfect', 'time', '.', 'let', 'kid', 'help', 'make', 'dinner', 'even', 'time-crunch', 'night', '.', 'one', 'kid', 'tabl', 'homework', ',', 'one', 'practic', 'piano', '(', 'loudli', ')', ',', 'one', 'danc', 'underfoot', ',', \"n't\", 'seem', 'perfect', 'time', 'let', 'fourth', 'kid', 'help', 'dinner', '.', 'tri', 'never', 'say', '.', 'alway', 'chop', 'measur', '.', 'begin', 'reader', 'read', 'next', 'step', 'recip', 'pride', '.', 'long', ',', \"'ll\", 'say', 'someth', 'like', 'kid', ':', '``', \"n't\", 'forget', 'make', 'snack', 'club', 'meet', 'tomorrow', '.', \"'s\", 'cookbook', ',', '.', \"''\", 'serena', 'ball', ',', 'ms', ',', 'rd', 'food', 'writer', 'regist', 'dietitian', 'nutritionist', '.', 'blog', 'teaspoonofspice.com', 'share', 'tip', 'trick', 'help', 'famili', 'find', 'healthi', 'live', 'shortcut', '.', 'follow', '@', 'tspcurri', 'twitter', 'snapchat', '.', 'relat', 'link', ':', 'healthi', 'snack', 'kid', 'make', '10', 'healthi', 'eat', 'habit', 'teach', 'kid', 'play', 'food', ':', 'fun', 'recip', 'kid']\n",
            "Words Count: 491\n",
            "\n",
            "Article: 5\n",
            "Label: Food\n",
            "Title Tokens: ['right', 'intern', 'temperatur', 'cook', 'chicken']\n",
            "Body Tokens: ['best', 'way', 'determin', 'chicken', 'cook', 'safe', 'eat', 'check', 'intern', 'temperatur', '.', 'temperatur', '?', 'matter', 'whether', 'bake', 'whole', 'chicken', 'oven', ',', 'cook', 'chicken', 'breast', 'stovetop', '?', 'find', 'inform', ',', 'feel', 'good', 'home-cook', 'chicken', '.', 'correct', 'intern', 'temperatur', 'cook', 'chicken', '?', 'usda', '’', 'food', 'safeti', 'inspect', 'servic', '(', 'fsi', ')', 'recommend', 'cook', 'whole', 'chicken', 'part', 'chicken', '(', 'like', 'breast', ',', 'leg', ',', 'thigh', ',', 'wing', 'giblet', ')', ',', 'ground', 'poultri', ',', 'stuf', '165', 'degre', 'f.', 'mean', 'need', 'set', 'oven', '350', '450', 'degre', 'f', 'ensur', 'insid', 'chicken', 'meet', 'proper', 'temperatur', '.', 'chicken', 'carri', 'harm', 'bacteria', 'outsid', ',', 'potenti', 'make', 'anyon', 'eat', 'sick', '.', 'import', 'cook', 'chicken', 'properli', ',', 'order', 'destroy', 'bacteria', 'caus', 'foodborn', 'ill', '.', 'time', 'need', 'cook', 'chicken', 'depend', 'cook', 'method', '.', 'exampl', ',', 'four', 'ounc', 'boneless', 'chicken', 'breast', 'roast', '350', 'degre', 'f', '20', '30', 'minut', ',', 'simmer', '25', '30', 'minut', ',', 'grill', 'six', 'eight', 'minut', 'per', 'side', '.', 'also', 'import', 'follow', 'cook', 'time', 'temperatur', 'list', 'recip', 'check', 'intern', 'cook', 'temperatur', 'reach', 'use', 'instant', 'read', 'thermomet', '.', 'check', 'intern', 'temperatur', 'whole', 'chicken', 'innermost', 'part', 'thigh', 'wing', '.', 'piec', 'chicken', ',', 'check', 'thickest', 'part', 'piec', '.', 'marin', 'chicken', 'safe', 'marin', 'chicken', 'store', 'fridg', 'two', 'day', '.', 'mani', 'recip', 'recommend', 'extra', 'uncook', 'marinad', 'toss', '(', 'help', 'prevent', 'ill', ')', '.', 'also', 'opt', 'bring', 'marinad', 'full', 'boil', '(', 'bubbl', 'sever', 'minut', ',', 'depend', 'much', 'marinad', ')', 'brush', 'onto', 'cook', 'chicken', '.', 'uncook', 'leftov', 'marinad', 'certainli', 'discard', '.', 'cook', 'chicken', 'microwav', 'although', 'popular', 'way', 'cook', 'chicken', ',', 'use', 'microwav', 'cook', '.', 'ensur', 'safeti', 'chicken', 'minimum', 'intern', 'cook', 'temperatur', 'met', ',', 'follow', 'guidelin', ':', 'microwav', 'medium-high', '(', '70', '%', 'power', ')', '.', 'whole', 'chicken', 'microwav', 'nine', '10', 'minut', 'per', 'pound', ';', 'bone-in', 'part', 'eight', 'nine', 'minut', 'per', 'pound', ';', 'boneless', 'breast', 'halv', 'six', 'eight', 'minut', 'per', 'pound', '.', 'use', 'bag', 'cover', '.', 'place', 'whole', 'chicken', 'oven', 'cook', 'bag', 'cover', 'microwav', 'pot', '.', \"n't\", 'microwav', 'stuf', 'chicken', '.', 'food', 'tend', 'cook', 'quickli', 'unevenli', 'microwav', 'stuf', 'may', 'reach', 'safe', 'minimum', 'intern', 'cook', 'temperatur', 'destroy', 'bacteria', 'may', 'make', 'sick', '.', 'put', 'thinnest', 'piec', 'middl', 'dish', 'rack', '.', 'microwav', 'part', 'chicken', ',', 'arrang', 'dish', 'rack', 'thick', 'part', 'chicken', 'toward', 'outsid', 'dish', 'thinner', 'part', 'chicken', 'center', 'use', 'liquid', 'boneless', 'breast', 'halv', '.', 'cook', 'boneless', 'breast', 'halv', ',', 'place', 'dish', '1/4', 'cup', 'water', 'liquid', '(', 'like', 'chicken', 'stock', ')', 'cover', 'microwav', 'safe', 'plastic', 'wrap', '.', 'let', 'rest', 'close', 'microwav', '.', 'cook', 'bone-in', 'boneless', 'chicken', ',', 'allow', 'bone-in', 'chicken', 'stand', 'insid', 'microwav', '10', 'minut', 'boneless', 'breast', 'sit', 'five', 'minut', '.', 'allow', 'heat', 'distribut', 'microwav', '.', 'check', 'temperatur', '.', 'alway', 'check', 'done', 'chicken', 'use', 'food', 'thermomet', '.', 'cook', 'stuf', 'chicken', 'usda', 'meat', 'poultri', 'hotlin', 'recommend', 'buy', 'whole', ',', 'uncook', 'stuf', 'chicken', 'groceri', 'store', 'highli', 'perish', '.', 'also', 'recommend', 'pre-stuff', 'whole', 'chicken', 'cook', 'later', 'time', '.', 'accord', 'usda', '’', 'food', 'safeti', 'inspect', 'servic', ',', 'choos', 'stuff', 'chicken', ',', 'immedi', 'cook', '.', 'choos', 'stuff', 'chicken', ',', 'cook', 'raw', ',', 'perish', 'ingredi', '(', 'like', 'raw', 'meat', ',', 'shellfish', 'poultri', ')', 'stuf', 'decreas', 'risk', 'foodborn', 'ill', '.', 'wet', 'ingredi', 'stuf', 'prepar', 'ahead', 'time', 'kept', 'refriger', 'use', '.', 'mix', 'wet', 'dri', 'ingredi', 'readi', 'spoon', 'stuf', 'mixtur', 'chicken', 'caviti', '.', 'immedi', 'cook', 'stuf', ',', 'raw', 'chicken', 'set', 'lower', '325', 'degre', 'f.', 'chicken', 'temperatur', 'matter', 'cook', 'chicken', 'correct', 'minimum', 'intern', 'temperatur', 'necessari', 'import', 'way', 'help', 'prevent', 'foodborn', 'ill', '.', 'best', 'way', 'check', 'chicken', 'reach', 'correct', 'minimum', 'intern', 'cook', 'temperatur', 'use', 'food', 'thermomet', '.', 'relat', 'content', ':', '20', 'mistak', 'everyon', 'make', 'cook', 'chicken', '70', 'easi', 'chicken', 'recip', \"'ll\", 'make', 'repeat', '33', 'chicken', 'breast', 'recip', 'make', 'dinner', 'tonight']\n",
            "Words Count: 574\n",
            "\n",
            "Article: 6\n",
            "Label: Food\n",
            "Title Tokens: ['cut', 'bulk', '?', '?']\n",
            "Body Tokens: ['tactic', 'use', 'seriou', 'bodi', 'builder', ',', 'concept', 'bulk', 'cut', 'appeal', 'mass', '.', 'way', 'eat', 'chang', 'bodi', 'composit', '?', 'work', 'safe', '?', 'cut', 'bulk', '?', 'concept', 'behind', 'cut', 'bulk', 'righteou', 'one', '–', 'build', 'muscl', 'lose', 'fat', '–', 'alway', 'easili', 'achiev', '.', 'phase', 'method', 'eat', 'train', 'begin', '“', 'bulk', '”', 'requir', 'eat', 'calor', 'surplu', 'hope', 'increas', 'muscl', 'mass', 'gain', 'weight', '.', 'eat', 'fatti', 'junk', 'food', 'creat', 'increas', 'calori', ',', 'recommend', 'bulk', 'healthi', ',', 'higher', 'calori', 'food', 'prevent', 'onslaught', 'fatti', 'calori', 'avoid', 'sharp', 'increas', 'bodi', 'fat', '.', 'bulk', 'plan', 'suggest', 'macronutri', 'ratio', 'around', '50', 'percent', 'carb', ',', '30', '35', 'percent', 'protein', '15', 'percent', '20', 'percent', 'fat', '.', ',', '“', 'cut', '”', 'phase', 'employ', 'aim', 'drop', 'unwant', 'pound', 'fat', 'may', 'increas', 'bulk', ',', 'spare', 'gain', 'muscl', '.', 'phase', 'requir', 'calor', 'deficit', ',', 'drastic', 'prevent', 'loss', 'muscl', '.', 'carbohydr', 'intak', 'decreas', ',', 'protein', 'increas', 'common', 'ratio', 'look', 'someth', 'like', '40', 'percent', 'carb', ',', '40', 'percent', 'protein', '20', 'percent', 'fat', '.', 'meal', 'vari', 'anywher', 'three', 'six', 'per', 'day', ',', 'nutrient', 'adjust', 'bodi', 'weight', 'promot', '0.5', '1.0', 'percent', 'bodi', 'weight', 'lost', 'per', 'week', '.', 'research', 'suggest', 'protein', 'intak', 'high', 'three', 'gram', 'per', 'kilogram', 'per', 'day', ',', 'far', 'daili', 'requir', '0.8', 'gram', 'per', 'kilogram', '.', 'properli', 'execut', 'cut', 'bulk', ',', 'exercis', 'requir', '.', 'strong', 'emphasi', 'strength', 'train', 'need', ',', 'like', 'diet', ',', 'consist', 'key', 'success', 'promot', 'increas', 'muscl', '.', 'put', 'togeth', ',', 'carbohydr', 'eaten', 'train', ',', 'protein-rich', 'meal', 'emphas', 'workout', 'help', 'support', 'muscl', 'growth', '.', 'tri', 'cut', 'bulk', '–', '’', '?', 'bodi', 'builder', 'fit', 'model', 'often', 'partak', 'cycl', 'cut', 'bulk', 'competit', 'photo', 'shoot', ',', 'need', 'popul', 'highli', 'special', '.', 'muscl', 'build', 'desir', 'healthi', 'adult', ',', 'phase', 'may', 'provid', 'structur', 'help', 'success', ',', 'must', 'understood', 'everybodi', 'respond', 'differ', 'adjust', 'made', 'base', 'common', 'sens', '.', 'athlet', 'avid', 'exercis', 'may', 'want', 'consid', 'modifi', 'cut', 'bulk', 'activ', 'train', 'race', 'event', '.', 'cut', 'someth', 'like', 'marathon', 'train', 'would', 'good', 'combin', 'optim', 'perform', '.', 'bulk', 'cut', 'quick', 'easi', 'process', ',', 'requir', 'tremend', 'amount', 'disciplin', '.', 'pay', 'close', 'attent', 'calori', 'macro', 'easili', 'perpetu', 'unhealthi', 'relationship', 'food', 'exercis', ',', 'avoid', 'anyon', 'tendenc', 'toward', 'disord', 'eat', '.', 'peopl', 'medic', 'condit', ',', 'includ', 'diabet', ',', 'kidney', 'issu', 'thyroid', 'diseas', ',', 'drastic', 'chang', 'intak', 'carbohydr', 'protein', 'without', 'first', 'talk', 'medic', 'provid', '.', 'best', 'food', 'cut', 'bulk', '?', 'ad', 'subtract', 'calori', ',', 'maintain', 'health', 'prevent', 'nutrit', 'defici', 'tricki', '.', 'best', 'food', 'bulk', 'includ', 'meat', ';', 'fish', ';', 'poultri', ',', 'full-fat', 'dairi', 'product', ';', 'grain', 'like', 'bread', ',', 'oat', 'pasta', ',', 'chees', ';', 'nut', 'nut', 'butter', ';', 'healthi', 'oil', ';', 'avocado', ';', 'fruit', ';', 'starchi', 'non-starchi', 'veget', '.', 'cut', ',', 'opt', 'lean', 'cut', 'meat', ',', 'poultri', 'fish', ',', 'egg', 'white', '(', 'whole', 'egg', ')', ',', 'low-fat', 'non-fat', 'dairi', 'plenti', 'high-fib', 'fruit', ',', 'non-starchi', 'veget', 'legum', ';', 'whole', 'grain', 'moder', 'limit', 'amount', 'healthi', 'fat', 'nut', ',', 'oil', 'avocado', '.', 'bottom', 'line', ':', 'cut', 'bulk', 'everyon', ',', 'lot', 'hard', 'work', 'may', 'help', 'bodi', 'composit', 'chang', 'execut', 'respons', '.', 'relat', 'content', ':', 'hydrat', 'advic', 'teen', 'athlet', 'never', 'follow', 'prep', 'day', 'like', 'peloton', 'instructor', '8', 'best', 'protein', 'powder']\n",
            "Words Count: 493\n",
            "\n",
            "Article: 7\n",
            "Label: Food\n",
            "Title Tokens: ['summer', 'fest', ':', 'cool', 'cucumb', 'soup']\n",
            "Body Tokens: ['week', 'three', 'season-long', 'garden', 'parti', 'summer', 'fest', '2011', 'welcom', 'food', 'garden', 'blogger', 'featur', 'garden-to-t', 'recip', 'tip', '.', '’', 'help', 'enjoy', 'season', 'offer', '.', 'far', ',', \"'ve\", 'delv', 'eggplant', 'peach', '.', 'week', \"'re\", 'get', 'creativ', ':', 'cucumb', '.', 'temperatur', 'reach', '90', 'degre', 'mani', 'area', 'countri', ',', \"'s\", 'hot', 'cook', '.', \"'s\", 'never', 'hot', 'eat', 'right', ',', 'mercuri', 'rise', 'excus', 'roll', 'drive-through', '.', 'elli', 'krieger', \"'s\", 'cool', 'cucumb', 'soup', 'solut', '.', \"'s\", 'perfect', 'height', 'summer', ':', 'wo', \"n't\", 'need', 'turn', 'oven', 'stove', 'make', 'it.it', \"'s\", 'done', '20', 'minutes.it', \"'s\", 'great', 'way', 'use', 'cucumb', 'grow', 'like', 'crazi', 'garden.it', 'clock', '130', 'calori', '2.5', 'gram', 'fat', ',', 'make', 'waistline-friendli', 'light', 'lunch', 'appetizer.p', 'elli', ',', \"'s\", 'good', 'sourc', 'protein', ',', 'vitamin', ',', 'vitamin', 'c', 'calcium', '.', 'wait', '?', 'get', 'blender', 'whip', 'super-cool', ',', 'creamy-yet-good-for', 'cold', 'soup', '.', 'cool', 'cucumb', 'soup', 'serv', '4', '3', 'cup', 'plain', 'nonfat', 'yogurt', '1', 'english', 'cucumb', '(', '1', 'pound', ')', ',', 'cut', 'chunk', '1', 'scallion', ',', 'white', 'green', 'part', ',', 'coars', 'chop', '(', '1/4', 'cup', ')', '3', 'tablespoon', 'chop', 'fresh', 'dill', ',', 'plu', 'sprig', 'garnish', 'salt', 'freshli', 'ground', 'black', 'pepper', '1', 'medium', 'tomato', ',', 'seed', 'dice', ',', '3', 'slice', 'radish', '2', 'teaspoon', 'oliv', 'oil', 'blender', ',', 'combin', 'yogurt', ',', 'cucumb', ',', 'scallion', 'dill', '.', 'puls', 'pure', '.', 'season', ',', 'tast', ',', 'salt', 'pepper', '.', 'ladl', 'individu', 'bowl', '.', 'top', 'serv', '2', 'tablespoon', 'dice', 'tomato', 'radish', ',', 'drizzl', '1/2', 'teaspoon', 'oliv', 'oil', 'garnish', 'dill', 'sprig', '.', 'per', '1', 'cup', 'serv', ':', 'calori', ':', '130', 'total', 'fat', ':', '2.5', 'gram', 'satur', ':', 'fat', '0', 'gram', 'protein', ':', '11', 'gram', 'total', 'carbohydr', ':', '17', 'gram', 'fiber', ':', '2', 'gram', 'cholesterol', ':', '5', 'milligram', 'sodium', ':', '140', 'milligram', 'cucumb', 'famili', 'friend', ':', 'cook', 'channel', ':', 'cucumb', 'stuf', 'crab-mango', 'salad', 'pinch', 'salt', ':', 'chill', 'cucumb', ',', 'kefir', 'avocado', 'soup', '’', 'gabi', 'cook', ':', 'cucumber-basil', 'gimlet', 'jenni', '’', 'kitchen', ':', 'radish-cucumb', 'crostini', 'big', 'girl', 'small', 'kitchen', ':', 'spici', 'cucumb', 'salad', 'shallot', ',', 'ginger', 'mint', 'grecian', 'kitchen', ':', 'summer', 'cucumb', 'salad', 'love', ':', 'cucumb', ',', 'mint', 'watermelon', 'salad', 'napa', 'farmhous', '1885', ':', 'cucumb', 'cooler', 'agav', 'simpl', 'syrup', 'cook', 'kid', ':', 'cucumb', 'limead', 'fn', 'dish', ':', 'summer', 'fest', ':', 'cucumb', 'recip', 'cia', 'dropout', ':', 'relish', 'cucumb', 'food', '7', 'stage', 'life', ':', 'cucumb', 'cherri', 'salsa', 'cook', 'elis', ':', 'green', 'tea', 'cucumb', 'pop', 'glori', 'food', ':', 'cucumb', 'shrimp', 'boat', 'virtual', 'vegan', 'mama', ':', 'fire-roast', 'tomato', 'cucumb', 'gazpacho', 'food2', ':', 'life', 'give', 'cucumb', ',', 'make', 'cucumb', 'cocktail', 'recip', 'girl', ':', 'bread', 'butter', 'pickl', 'tast', 'eye', ':', 'spici', 'pickl', 'cucumb', 'wakam', 'garlic', 'blossom', 'virtual', 'homemad', ':', 'cold', 'thai', 'cucumber-mint', 'soup', 'add', 'pinch', ':', 'cucumb', 'tea', 'sandwich', 'cultur', 'dish', ':', 'ahi', 'tuna', 'cucumb', 'sauc', 'salad', 'daili', '*', 'dishin', ':', 'cool', 'n', '’', 'zesti', 'cuke', ':', '7', 'minut', 'summer', 'jar', 'daydream', 'dessert', ':', 'cubanita', 'margarita', 'purpl', 'cook', ':', 'cucumb', 'gazpacho', 'indian', 'flavor', 'shrimp', 'relish', 'indian', 'simmer', ':', 'cucumb', 'best', 'chaat', 'masala', 'big', 'appl', 'nosh', ':', 'quick', 'easi', 'homemad', 'pickl', 'sweet', 'life', 'bake', ':', 'agua', 'de', 'pepino', 'sensit', 'epicur', ':', 'tzatziki', 'grill', 'gluten-fre', 'pita', 'fresh', 'cucumb', 'pepper', 'zaika', 'zabardast', ':', 'cucumb', 'gazpacho', 'way', 'garden', ':', 'cucumber-grow', 'q', '&', 'best', 'pickl', 'cook', 'book', ':', 'summer', 'fest', ':', 'cucumb']\n",
            "Words Count: 510\n",
            "\n",
            "Article: 8\n",
            "Label: Food\n",
            "Title Tokens: [',', 'california', 'ban', 'skittl']\n",
            "Body Tokens: ['take', 'deep', 'breath', ',', 'skittl', 'fan', '.', 'despit', 'initi', 'report', 'contrari', ',', 'california', 'ban', 'candi', '.', 'peopl', 'worri', '?', 'well', ',', '’', 'deal', ':', 'coupl', 'week', 'ago', ',', 'state', 'california', 'pass', 'assembl', 'bill', '.', '418', ',', 'a.k.a', '.', 'california', 'food', 'safeti', 'act', '.', 'act', ',', 'sign', 'law', 'governor', 'gavin', 'newsom', ',', 'prohibit', ',', 'start', 'januari', '1', ',', '2027', ',', 'manufactur', ',', 'sale', 'distribut', 'four', 'ingredi', 'sometim', 'found', 'popular', 'candi', 'snack', 'sold', 'u.s.', ':', 'bromin', 'veget', 'oil', ',', 'potassium', 'bromat', ',', 'propylparaben', 'red', 'dye', '3', '.', 'violat', 'could', 'penal', '$', '5,000', 'initi', 'violat', 'much', '$', '10,000', 'subsequ', 'violat', 'bill', '’', 'provis', '.', 'thing', 'none', 'ingredi', 'skittl', '.', 'say', 'rumor', 'came', 'nowher', '.', 'earlier', 'version', 'bill', ',', 'ab', '418', ',', 'includ', 'anoth', 'ingredi', ',', 'color', 'agent', 'known', 'titanium', 'dioxid', '.', 'ingredi', 'actual', 'skittl', ',', 'well', '&', '’', '.', 'ingredi', 'actual', 'includ', 'among', 'ban', 'ingredi', 'final', 'bill', '.', 'even', ',', '’', 'ingredi', 'ban', ',', 'product', '.', 'publicli', 'share', 'statement', 'state', 'assembl', ',', 'gov', '.', 'newsom', 'note', 'sever', 'countri', 'alreadi', 'ban', 'addit', 'address', 'bill', ',', 'hail', 'posit', 'step', 'toward', 'greater', 'food', 'safeti', 'assert', 'delay', '2027', 'give', 'brand', '“', 'signific', 'time', 'brand', 'revis', 'recip', 'avoid', 'harm', 'chemicals.', '”', '“', 'californian', 'still', 'abl', 'access', 'enjoy', 'favorit', 'food', 'product', ',', 'greater', 'confid', 'safeti', 'product', ',', '”', 'governor', 'say', '.', ',', 'wait', ',', 'rest', 'us', 'concern', 'ingredi', 'soon', 'prohibit', 'california', '?', 'reach', 'tobi', 'amidor', ',', 'ms', ',', 'rd', ',', 'cdn', ',', 'fand', ',', 'award-win', 'nutrit', 'expert', 'wall', 'street', 'journal', 'best-sel', 'author', 'veggi', ',', 'get', 'perspect', '.', 'amidor', 'say', 'mani', 'ingredi', 'target', 'bill', '“', 'safe', 'minut', 'level', 'use', 'caus', 'harm.', '”', 'note', 'bromin', 'veget', 'oil', ',', 'u.s.', 'food', '&', 'drug', 'administr', '(', 'fda', ')', 'allow', 'ad', 'food', 'small', 'amount', '15', 'part', 'per', 'million', ',', 'use', 'u.s.', 'stabil', 'fruit-flavor', 'beverag', '.', '“', 'time', ',', 'fda', 'work', 'remov', 'use', 'bvo', 'food', 'beverag', 'new', 'scientif', 'evid', 'reveal', 'reason', 'certainti', 'bvo', 'caus', 'harm', ',', '”', 'amidor', 'say', '.', 'potassium', 'bromat', ',', 'oxid', 'agent', 'use', 'bread', 'dough', 'bake', 'good', ',', 'also', 'regul', 'fda', ',', 'limit', 'amount', 'ad', 'food', '.', '“', 'research', 'show', 'potassium', 'bromat', '’', 'caus', 'harm', 'human', 'consum', 'properli', 'heat', 'bake', 'good', 'bread', ',', '”', 'amidor', 'say', '.', '“', 'howev', ',', 'research', 'rodent', 'given', 'significantli', 'high', 'amount', 'potassium', 'bromat', 'result', 'show', 'ingredi', 'could', 'harm', 'dna', ',', 'cell', 'potenti', 'caus', 'cancer.', '”', 'peopl', '“', 'consum', 'potassium', 'bromat', '[', ']', 'high', 'level', 'given', 'rodent', 'ever.', '”', ',', 'amidor', 'say', ',', '“', 'safe', 'regul', 'level.', '”', 'propylparaben', ',', 'synthet', 'ingredi', 'use', 'small', 'amount', 'food', 'beverag', 'halt', 'growth', 'bacteria', 'microb', ',', 'also', 'gener', 'recogn', 'safe', 'govern', 'allow', 'small', 'amount', '.', 'final', 'ingredi', 'target', 'bill', ',', 'synthet', 'food', 'color', 'red', 'dye', '.', '3', ',', 'center', 'scienc', 'public', 'interest', 'say', ',', '“', 'even', 'fda', '”', 'acknowledg', 'carcinogen', '(', 'a.k.a', '.', 'cancer-caus', ')', 'ingredi', '.', 'yet', 'lurk', 'countless', 'candi', ',', 'cake', 'food', 'avoid', '.', '(', 'find', 'partial', 'list', '.', ')', '’', 'thing', ',', 'though', ',', 'skittl', 'contain', 'red', 'dye', '.', '3', '.', '—', 'neither', '&', '’', ',', 'blowpop', ',', 'smarti', ',', 'nerd', ',', 'twizzler', ',', 'red', 'vine', 'redhot', '.', 'still', ',', 'candi', 'like', 'skittl', '&', '’', ',', 'despit', 'red', '3-free', '“', 'food', 'want', 'includ', 'diet', 'regularli', ',', '”', 'amidor', 'say', '.', '“', 'caus', 'toxic', '”', '—', 'small', 'amount', 'titanium', 'oxid', 'big', 'deal', '—', '“', 'fill', 'good-for-y', 'nutrient', 'consid', 'empty-calori', 'food', '”', 'better', 'enjoy', 'occasion', 'treat', '.', 'overal', ',', 'amidor', 'believ', 'california', 'bill', '“', 'exagger', 'water', 'cooler', 'social', 'media', 'talk', '”', '’', 'take', 'account', 'exist', 'scientif', 'evid', '.', 'regardless', ',', 'suspect', 'compani', 'may', 'tweak', 'food', 'beverag', 'formula', 'meet', 'consum', 'demand', '.', '“', 'mean', 'ingredi', '’', 'safe', '?', ',', '”', 'amidor', 'say', '.', '“', '…', 'feel', 'see.', '”', 'relat', 'content', ':', 'two', 'popular', 'sour', 'roll', 'candi', 'recal', 'due', 'choke', 'hazard', 'much', 'caffein', 'much', 'caffein', '?', 'put', 'togeth', 'balanc', ',', 'fulli', 'plant-bas', 'plate']\n",
            "Words Count: 620\n",
            "\n",
            "Article: 9\n",
            "Label: Food\n",
            "Title Tokens: ['crave', 'call', ',', 'say', '?']\n",
            "Body Tokens: ['get', 'crave', ',', 'come', 'form', 'high-sugar', 'calorie-dens', 'food', ',', \"'s\", 'waistlin', 'suffer', 'consequ', '.', 'understand', 'messag', 'behind', 'crave', 'make', 'easier', 'resist', 'siren', 'call', 'certain', 'food', '.', 'crave', 'one', 'theori', 'crave', 'specif', 'food', 'intens', 'bodi', 'defici', 'nutrient', 'food', 'contain', '.', 'exampl', ',', 'desper', 'crave', 'potato', 'chip', 'bodi', 'need', 'salt', '.', 'theori', ',', 'unfortun', ',', 'lack', 'scientif', 'evid', 'back', '.', 'carb', 'crave', 'anoth', 'stori', '.', 'eat', 'high-carb', 'food', 'like', 'bread', 'pasta', ',', 'blood', 'sugar', 'rise', '.', 'caus', 'bodi', 'releas', 'hormon', 'insulin', '.', 'insulin', 'trigger', 'amino', 'acid', 'tryptophan', 'pass', 'brain', '--', 'come', 'serotonin', '.', 'chemic', 'messeng', 'help', 'regul', 'mood', '.', 'low', 'serotonin', 'level', 'associ', 'irrit', ',', 'fatigu', ',', 'impati', ',', 'depress', 'anger', '.', 'one', 'theori', 'bodi', 'crave', 'carb', ',', 'may', 'sign', 'serotonin', 'level', 'low', '.', 'crave', 'may', 'psycholog', '.', 'depress', ',', 'boredom', 'sad', 'promot', 'crave', '.', 'type', 'food', 'person', 'crave', 'especi', 'emot', 'time', 'depend', 'individu', '.', 'manag', 'crave', \"'s\", ',', \"'s\", 'way', 'overcom', 'food', 'long', '.', '1', '.', 'prepar', ':', 'arm', 'right', 'food', '--', 'mean', ',', 'one', 'typic', 'crave', 'healthier', 'option', 'similarli', 'satisfi', '--', 'one', 'good', 'strategi', '.', 'instanc', ',', 'hanker', 'sweet', ',', 'top', 'nonfat', 'plain', 'greek', 'yogurt', 'fresh', 'fruit', 'touch', 'honey', '.', \"'re\", 'salt', 'buff', ',', 'hand', 'nut', 'alway', 'readi', '.', \"'re\", 'keen', 'chocol', ',', 'give', ',', 'keep', 'simpl', ':', 'one', 'ounc', 'dark', 'chocol', 'trick', '.', '2', '.', 're-train', 'tast', 'bud', ':', 'use', 'super-salti', 'extrem', 'sweet', 'food', '?', 'help', 'adjust', 'tast', 'bud', 'prefer', 'slowli', 'scale', 'back', 'ad', 'salt', 'ad', 'sugar', 'time', '.', 'bodi', \"n't\", 'accustom', 'much', ',', 'wo', \"n't\", 'need', 'much', 'satisfi', 'crave', '.', '3', '.', 'walk', ':', 'research', 'found', 'exercis', 'help', 'curb', 'crave', '.', 'one', 'studi', 'publish', 'medicin', 'scienc', 'sport', 'exercis', 'found', 'exercis', 'decreas', 'crave', 'food', 'women', ',', 'make', 'less', 'like', 'eat', '.', '4', '.', 'pictur', ':', '2011', 'studi', 'appetit', 'found', 'replac', 'mental', 'imag', 'crave', 'food', '(', 'doughnut', ')', 'imag', 'favorit', 'activ', '(', 'like', 'tenni', ')', '--', 'draw', 'sens', ',', 'sound', 'color', 'associ', 'activ', '--', 'could', 'help', 'reduc', 'intens', 'crave', '.', '5', '.', 'wait', ':', 'let', '20', 'minut', 'go', 'see', 'crave', 'pass', '.', 'also', 'give', 'time', 'make', 'healthier', 'choic', '.', 'stress', 'reduct', 'techniqu', 'medit', ',', 'breath', 'take', 'hot', 'bath', '--', 'chang', 'environ', 'take', 'walk', 'drink', 'sooth', 'tea', '--', 'help', 'crave', 'move', 'move', '.', 'tobi', 'amidor', ',', 'ms', ',', 'rd', ',', 'cdn', ',', 'regist', 'dietitian', 'consult', 'special', 'food', 'safeti', 'culinari', 'nutrit', '.', 'author', 'greek', 'yogurt', 'kitchen', ':', '130', 'delici', ',', 'healthi', 'recip', 'everi', 'meal', 'day', '.']\n",
            "Words Count: 394\n",
            "\n",
            "Article: 10\n",
            "Label: Food\n",
            "Title Tokens: ['week', \"'s\", 'nutrit', 'new', 'feed']\n",
            "Body Tokens: ['week', \"'s\", 'news', ':', 'california', 'take', 'hard', 'stanc', 'soft', 'drink', ';', 'market', 'realiz', \"'s\", 'bread', 'made', 'gluten-fre', 'aisl', ';', 'amino', 'acid', 'spinach', 'get', 'spotlight', '.', 'california', 'bust', 'soda', \"'s\", 'bubbl', '?', 'along', 'sever', 'medic', 'expert', ',', 'california', 'state', 'senat', 'propos', 'ad', 'warn', 'label', 'packag', 'soda', 'unlik', 'appear', 'cigarett', 'packag', '.', 'word', '--', 'develop', 'panel', 'nation', 'healthcar', 'leader', '--', 'would', 'read', ',', '“', 'state', 'california', 'safeti', 'warn', ':', 'drink', 'beverag', 'ad', 'sugar', '(', ')', 'contribut', 'obes', ',', 'diabet', ',', 'tooth', 'decay', '.', \"''\", 'accord', 'data', 'cite', ',', 'one', 'soda', 'day', 'rais', 'adult', \"'s\", 'chanc', 'overweight', '27', 'percent', 'child', \"'s\", '55', 'percent', '.', 'gluten-fre', 'market', ',', 'dough', 'keep', 'rise', 'despit', 'fact', 'six', 'percent', 'popul', 'gluten-sensit', ',', 'eleven', 'percent', 'us', 'famili', 'purchas', 'gluten-fre', 'product', ',', '30', 'percent', 'say', 'want', 'cut', 'back', 'gluten', 'consumpt', '.', 'accord', 'new', 'york', 'time', ',', 'gluten-fre', 'categori', 'expect', 'reach', '$', '15', 'billion', 'annual', 'sale', '2016', '.', 'multipl', 'reason', 'behind', 'boom', '(', 'includ', 'nation', 'preoccup', 'gut', 'health', ',', 'accord', 'one', 'analyst', ')', '--', 'mani', 'ramif', ',', 'increas', 'produc', 'consumpt', '(', 'fruit', 'veggi', ',', ',', 'natur', 'gluten-fre', ')', '.', 'good', 'workout', ',', 'hold', 'vitamin', 'supplement', 'part', 'appeal', 'vitamin', 'lie', 'abil', 'help', 'neutral', 'free', 'radic', ',', 'damag', 'cell', 'bodi', '.', 'exercis', 'increas', 'free', 'radic', 'product', ',', \"'s\", 'uncommon', 'seriou', 'athlet', 'load', 'supplement', 'part', 'recoveri', 'regimen', '.', 'new', 'studi', 'publish', 'journal', 'physiolog', 'indic', 'might', 'best', 'appproach', '.', '54', 'male', 'femal', 'volunt', 'given', 'pill', 'contain', 'either', 'placebo', 'high', 'level', 'vitamin', 'c', 'e', 'work', ',', 'take', 'supplement', 'show', 'less', 'improv', 'muscular', 'endur', 'health', 'benefit', ',', 'suggest', \"'s\", 'actual', 'function', 'free', 'radic', 'made', 'instanc', '.', 'secret', 'popey', '’', 'spinach', 'might', 'faster', 'reflex', 'come', 'reflex', 'reaction', ',', \"n't\", 'want', 'touch', 'super-spe', ',', 'whether', \"'s\", 'quick', 'move', 'wheel', 'pithi', '140-charact', 'comeback', '?', ',', 'team', 'german', 'research', 'think', 'might', 'lead', 'someth', 'help', ':', 'amino', 'acid', 'tyrosin', ',', 'commonli', 'found', 'food', 'like', 'spinach', ',', 'egg', 'soy', '.', 'double-blind', 'studi', 'publish', 'journal', 'neuropsychologia', ',', 'scientist', 'found', 'subject', 'drank', 'orang', 'juic', 'lace', 'tyrosin', 'perform', 'better', 'comput', 'game', 'design', 'measur', 'cognit', 'physic', 'reaction', 'time', 'drank', 'juic', 'placebo', '.', 'research', 'specul', 'bump', 'intak', 'dopamine-driv', 'amino', 'acid', 'might', 'make', 'peopl', 'less', 'like', 'reach', 'academ', 'performance-enhanc', 'ritalin', '.', 'sara', 'reistad-long', 'write', 'scienc', ',', 'well', 'lifestyl', '.', 'co-author', 'big', 'new', 'york', 'sandwich', 'book', 'follow', 'twitter', ':', '@', 'sarareistadlong']\n",
            "Words Count: 371\n",
            "\n",
            "Article: 11\n",
            "Label: Food\n",
            "Title Tokens: ['feed', 'brain', ':', '4', 'healthi', 'food', 'brain-boost', 'nutrient']\n",
            "Body Tokens: ['’', 'day', 'brain', 'feel', 'foggi', ':', '’', 'focu', 'memori', 'less-than', 'sharp', '.', 'chanc', ',', '’', 'resort', 'extra', 'caffein', 'sugari', 'snack', 'effort', 'jolt', 'brain', 'back', 'full', 'function', '.', 'could', 'consum', 'someth', '’', 'actual', 'healthi', 'brain', 'instead', '?', '’', 'idea', 'behind', 'numer', 'supplement', ',', 'food', 'drink', 'contain', 'nootrop', ',', 'substanc', 'purport', 'improv', 'cognit', '.', 'nootrop', 'cocktail', 'may', 'contain', 'number', 'thing', 'includ', 'b', 'vitamin', ',', 'l-theanin', ',', 'niacin', ',', 'well', 'variou', 'herb', 'amino', 'acid', '.', 'despit', 'grow', 'popular', 'brain', 'booster', ',', 'littl', 'scientif', 'evid', 'back', 'claim', '.', '“', 'love', 'idea', 'boost', 'brain', 'power', ',', 'show', 'scienc', 'supplement', 'better', 'movement', ',', 'medit', 'nutrient-dens', 'brain', 'food', 'come', 'mental', 'health', ',', '”', 'say', 'drew', 'ramsey', ',', 'md', ',', 'assist', 'clinic', 'professor', 'psychiatri', ',', 'columbia', 'univers', 'author', 'eat', 'complet', '(', 'harper', 'collin', ',', '2016', ')', '.', 'accord', 'ramsey', ',', 'boost', 'brain', 'power', 'actual', 'pretti', 'simpl', '.', 'even', 'made', 'littl', 'rhyme', 'key', 'brain', 'food', 'make', 'easi', 'rememb', ':', '“', 'seafood', ',', 'green', ',', 'nut', 'beans.', '”', 'eat', 'core', 'food', 'go', 'long', 'way', 'toward', 'keep', 'brain', 'healthy—and', 'healthi', 'brain', 'work', 'better', '.', 'import', 'nutrient', 'feed', 'brain', 'includ', 'omega-3', 'fat', ',', 'monounsatur', 'fat', ',', 'vitamin', 'b12', ',', 'zinc', ',', 'magnesium', ',', 'iron', ',', 'cholin', ',', 'lycopen', ',', 'vitamin', 'e', 'carotenoid', '.', '’', 'specif', 'food', 'magic', 'bullet', 'supplement', ',', 'rather', 'categori', 'healthi', 'food', 'provid', 'high', 'level', 'proven', 'brain-boost', 'nutrient', '.', '“', 'brain', 'consum', '20', 'percent', 'everyth', 'eat', ',', '”', 'say', 'ramsey', '.', '“', 'nourish', 'provid', 'energi', 'nutrient', 'creat', 'sustain', 'quadrillion', 'connect', 'construct', 'brain', ',', 'plu', 'electr', 'cours', 'connections.', '”', 'word', ':', 'want', 'better', 'brain', ',', 'feed', 'better', 'food', '.', 'crispi', 'shrimp', 'green', 'bean', 'serv', '4', 'lover', 'fri', 'seafood', 'take', 'note', '.', 'crispi', 'panfri', 'healthier', 'option', 'usual', 'deep', 'fri', '.', 'pick', 'shrimp', 'well', '(', 'wild', 'salt', 'preserv', ')', 'high-protein', ',', 'iodine-rich', 'seafood', 'option', 'appeal', 'kid', 'new', 'seafood', '.', 'sub', 'green', 'bean', 'biscuit', 'fri', ',', 'get', 'major', 'nutrit', 'boost', ',', 'also', 'load', 'fill', 'fiber', '.', 'ingredi', ':', '1/2', 'cup', 'gluten-fre', 'pancak', 'mix', '1/2', 'cup', 'parmesan', 'chees', '2', 'tablespoon', 'ground', 'flaxse', '2', 'tablespoon', 'pumpkin', 'seed', '1', 'teaspoon', 'dri', 'herb', ',', 'italian', 'season', '1', 'pasture-rais', 'egg', '1', 'pound', 'larg', 'shrimp', ',', 'peel', ',', 'devein', ',', 'tail', 'remov', '3', 'tablespoon', 'oliv', 'oil', '1/2', 'pound', 'swiss', 'chard', 'kale', ',', 'chop', '2', 'garlic', 'clove', ',', 'thinli', 'slice', 'one', '15.5-ounc', 'no-salt-ad', 'chickpea', 'navi', 'bean', ',', 'rins', 'well', 'cold', 'run', 'water', 'drain', 'direct', ':', 'place', 'pancak', 'mix', ',', 'chees', ',', 'flaxse', ',', 'pumpkin', 'seed', ',', 'herb', 'plate', 'toss', 'finger', 'mix', '.', 'whisk', 'egg', 'shallow', 'bowl', '.', 'dip', 'shrimp', 'beaten', 'egg', 'press', 'pancak', 'mixtur', ',', 'transfer', 'larg', 'clean', 'plate', '.', 'repeat', 'remain', 'shrimp', ',', 'work', 'batch', 'need', ',', 'place', 'fridg', 'prepar', 'green', '.', 'warm', '1', 'tablespoon', 'oliv', 'oil', 'larg', 'skillet', 'add', 'green', 'garlic', '.', 'toss', 'well', 'cook', '1', '2', 'minut', 'green', 'wilt', '.', 'add', 'bean', 'toss', '.', 'turn', 'heat', 'set', 'asid', '.', 'heat', 'separ', 'larg', 'skillet', 'medium', 'heat', 'add', 'remain', '2', 'tablespoon', 'oliv', 'oil', '.', 'add', 'shrimp', 'cook', '4', '6', 'minut', ',', 'turn', 'occasion', ',', 'shrimp', 'crispi', 'cook', '.', 'transfer', 'plate', 'line', 'paper', 'towel', '.', 'place', 'green', 'four', 'plate', ',', 'divid', 'equal', ',', 'top', 'shrimp', '.', 'serv', 'immedi', '.', 'per', 'serv', ':', 'calori', '525', ';', 'fat', '19', 'g', '(', 'satur', '3', 'g', ')', ';', 'cholesterol', '1', 'g', ';', 'sodium', '461', 'mg', ';', 'carbohydr', '51', 'g', ';', 'fiber', '11', 'g', ';', 'sugar', '11', 'g', ';', 'protein', '38', 'g', 'recip', 'photo', 'courtesi', 'drew', 'ramsey', '.', 'salli', 'wadyka', 'boulder', ',', 'colorado-bas', 'journalist', 'write', 'nutrit', ',', 'health', 'well']\n",
            "Words Count: 563\n",
            "\n",
            "Article: 12\n",
            "Label: Food\n",
            "Title Tokens: ['pleas', '!', 'love', 'food', 'safeti', ',', 'stop', 'wash', 'chicken']\n",
            "Body Tokens: ['rins', 'raw', 'chicken', 'kitchen', 'faucet', 'cook', '?', 'julia', 'child', 'regularli', ',', 'rins', 'chicken', 'prep', 'cook', 'becom', 'common', 'practic', 'mani', 'household', '.', 'studi', 'drexel', 'univers', 'found', 'approxim', '90', '%', 'peopl', 'say', 'wash', 'chicken', 'cook', 'histor', 'recip', 'instruct', 'peopl', '.', 'even', 'today', 'mani', 'folk', 'believ', 'rins', 'chicken', 'wash', 'away', 'pathogen', 'bacteria', 'make', 'chicken', 'safe', 'eat', '.', \"'re\", 'settl', 'debat', '.', \"n't\", 'rins', 'chicken', 'raw', 'chicken', 'contamin', 'numer', 'pathogen', 'bacteria', 'includ', 'campylobact', ',', 'salmonella', ',', 'clostridium', 'perfringen', ',', 'lead', 'foodborn', 'ill', '.', 'studi', 'done', 'drexel', 'univers', 'found', 'rins', 'chicken', 'increas', 'chanc', 'spread', 'bacteria', 'around', 'sink', 'counter', 'top', '.', 'even', 'start', 'websit', 'call', '’', 'wash', 'chicken', ',', 'explain', 'raw', 'chicken', 'carri', 'bacteria', 'outsid', ',', 'research', 'show', 'wash', 'poultri', 'run', 'water', 'caus', 'bacteria', 'spread', '.', 'although', 'may', 'see', 'water', 'splashin', ',', 'could', 'get', 'bacteria', 'get', 'place', ',', 'includ', 'counter', 'top', ',', 'kitchen', 'towel', ',', 'anyth', 'nearbi', '.', 'happen', '.', '’', 'wash', 'chicken', 'websit', 'video', 'anim', 'show', 'far', 'bacteria', 'spread', '!', 'bacteria', 'get', 'raw', 'produc', 'ingest', 'especi', 'young', 'children', ',', 'pregnant', 'women', ',', 'older', 'adult', ',', 'weaken', 'immun', 'system', ',', 'caus', 'get', 'sick', '.', 'first', 'time', '2005', ',', 'usda', '’', 'dietari', 'guidelin', 'american', 'includ', 'food', 'safeti', ',', 'advis', 'rins', 'chicken', 'cook', '.', 'reason', 'exactli', 'studi', 'found', ',', 'chicken', 'juic', 'get', 'place', 'potenti', 'get', 'someon', 'sick', '.', 'handl', 'raw', 'chicken', 'safe', 'alway', 'chanc', 'contamin', 'chicken', 'time', 'pick', 'store', 'time', 'consum', '.', 'keep', 'chicken', 'safe', 'eat', ',', 'simpl', 'step', 'follow', '.', 'shop', ':', 'purchas', 'chicken', ',', 'bag', 'dispos', 'bag', 'prevent', 'raw', 'juic', 'get', 'onto', 'food', ',', 'especi', 'raw', 'food', 'like', 'fruit', 'vegetables.when', 'store', ':', 'place', 'chicken', 'dispos', 'bag', 'bottom', 'refriger', 'prevent', 'juic', 'drip', 'onto', 'ready-to-eat', 'foods.when', 'handl', ':', 'alway', 'wash', 'hand', 'soapi', 'water', 'least', '20', 'second', 'handl', 'raw', 'chicken', '.', 'wash', 'raw', 'chicken', '.', 'instead', ',', 'take', 'chicken', 'packag', 'put', 'directli', 'cook', 'pan', '.', 'heat', 'cook', 'destroy', 'bacteria', 'present', 'long', 'reach', 'proper', 'intern', 'cook', 'temperatur', '.', 'use', 'thermomet', 'ensur', 'chicken', 'reach', 'intern', 'cook', 'temperatur', '165-degre', 'fahrenheit.when', 'prep', ':', 'need', 'prep', 'chicken', ',', 'includ', 'remov', 'skin', 'bread', ',', 'use', 'separ', 'cut', 'board', 'knife', 'raw', 'chicken', '.', 'never', 'place', 'cook', 'food', 'fresh', 'produc', 'plate', 'cut', 'board', 'direct', 'contact', 'raw', 'chicken', '.', 'alway', 'wash', 'plate', 'cut', 'board', 'first', 'hot', 'soapi', 'water.when', 'store', 'leftov', ':', 'leftov', ',', 'refriger', 'freez', 'chicken', 'within', 'two', 'hour', ',', 'within', 'one', 'hour', 'temperatur', '90-degre', 'fahrenheit', '.', 'bottom', 'line', '’', 'habit', 'wash', 'chicken', 'cooking….stop', '!', 'get', 'someon', 'sick', '.', 'minim', 'risk', 'food', 'poison', 'home', ',', 'handl', 'chicken', 'care', 'purchas', 'cook', '.', 'tobi', 'amidor', ',', 'ms', ',', 'rd', ',', 'cdn', ',', 'regist', 'dietitian', 'consult', 'special', 'food', 'safeti', 'culinari', 'nutrit', '.', 'author', 'greek', 'yogurt', 'kitchen', ':', '130', 'delici', ',', 'healthi', 'recip', 'everi', 'meal', 'day', '.', '*', 'articl', 'written', 'and/or', 'review', 'independ', 'regist', 'dietitian', 'nutritionist', '.', 'relat', 'link', ':', 'seltzer', 'hydrat', 'regular', 'water', '?', 'best', 'high-energi', 'food', 'snack', '100', 'calori', 'less']\n",
            "Words Count: 460\n",
            "\n"
          ]
        }
      ],
      "source": [
        "# Preprocess train dataset\n",
        "preprocessed_train_set = []\n",
        "for article in train_set:\n",
        "    title_tokens = tokenize(article['title'])\n",
        "    body_tokens = tokenize(article['body'])\n",
        "    \n",
        "    title_tokens = remove_stopwords(title_tokens)\n",
        "    body_tokens = remove_stopwords(body_tokens)\n",
        "    \n",
        "    title_tokens = stem_tokens(title_tokens)\n",
        "    body_tokens = stem_tokens(body_tokens)\n",
        "\n",
        "    words_count = len(body_tokens)\n",
        "    \n",
        "    preprocessed_train_set.append({'index': article['index'], 'label': article['label'], 'title_tokens': title_tokens, 'body_tokens': body_tokens, 'words_count': words_count})\n",
        "\n",
        "# Print preprocessed train dataset\n",
        "for article in preprocessed_train_set:\n",
        "    print(f\"Article: {article['index']}\")\n",
        "    print(f\"Label: {article['label']}\")\n",
        "    print(f\"Title Tokens: {article['title_tokens']}\")\n",
        "    print(f\"Body Tokens: {article['body_tokens']}\")\n",
        "    print(f\"Words Count: {article['words_count']}\")\n",
        "    print()"
      ]
    },
    {
      "cell_type": "markdown",
      "metadata": {},
      "source": [
        "## **3. Graph Construction:**\n",
        "Represent each page as a directed graph where nodes represent unique terms = (words), (around 300 words, after preprocessing such as \n",
        "tokenization, stop-word removal, and stemming) and edges denote term relationships based on their sequence in the text"
      ]
    },
    {
      "cell_type": "code",
      "execution_count": 14,
      "metadata": {},
      "outputs": [],
      "source": [
        "import networkx as nx\n",
        "from nltk.tokenize import word_tokenize\n",
        "import networkx as nx\n",
        "import matplotlib.pyplot as plt"
      ]
    },
    {
      "cell_type": "code",
      "execution_count": 15,
      "metadata": {},
      "outputs": [],
      "source": [
        "# Function to build directed graph\n",
        "def build_graph(tokens):\n",
        "    graph = nx.DiGraph()\n",
        "    for i in range(len(tokens) - 1):\n",
        "        if not graph.has_edge(tokens[i], tokens[i+1]):\n",
        "            graph.add_edge(tokens[i], tokens[i+1], weight=1)\n",
        "        else:\n",
        "            graph.edges[tokens[i], tokens[i+1]]['weight'] += 1\n",
        "    return graph"
      ]
    },
    {
      "cell_type": "code",
      "execution_count": 16,
      "metadata": {},
      "outputs": [],
      "source": [
        "# Function to plot the graph\n",
        "def plot_graph(graph):\n",
        "    pos = nx.spring_layout(graph)\n",
        "    nx.draw(graph, pos, with_labels=True, node_color='skyblue', node_size=1500, edge_color='black', linewidths=1, font_size=10)\n",
        "    labels = nx.get_edge_attributes(graph, 'weight')\n",
        "    nx.draw_networkx_edge_labels(graph, pos, edge_labels=labels)\n",
        "    plt.show()"
      ]
    },
    {
      "cell_type": "code",
      "execution_count": 17,
      "metadata": {},
      "outputs": [
        {
          "name": "stdout",
          "output_type": "stream",
          "text": [
            "Article :  1 Graph built\n",
            "Article :  2 Graph built\n",
            "Article :  3 Graph built\n",
            "Article :  4 Graph built\n",
            "Article :  5 Graph built\n",
            "Article :  6 Graph built\n",
            "Article :  7 Graph built\n",
            "Article :  8 Graph built\n",
            "Article :  9 Graph built\n",
            "Article :  10 Graph built\n",
            "Article :  11 Graph built\n",
            "Article :  12 Graph built\n"
          ]
        }
      ],
      "source": [
        "graphs_train_set = []\n",
        "for article in preprocessed_train_set:\n",
        "    # Build the directed graph\n",
        "    print(\"Article : \", article['index'], \"Graph built\")\n",
        "    graph = build_graph(article['body_tokens'])\n",
        "    graphs_train_set.append(graph)\n",
        "\n",
        "    # Plot the graph\n",
        "    # plot_graph(graph)"
      ]
    },
    {
      "cell_type": "markdown",
      "metadata": {},
      "source": [
        "## **4. Feature Extraction via Common Subgraphs:**\n",
        "Utilize frequent subgraph mining techniques to identify common subgraphs within the training set graphs. These common subgraphs will serve as features for classification, capturing the shared content across documents related to the same topic."
      ]
    }
  ],
  "metadata": {
    "colab": {
      "provenance": []
    },
    "kernelspec": {
      "display_name": "Python 3",
      "name": "python3"
    },
    "language_info": {
      "codemirror_mode": {
        "name": "ipython",
        "version": 3
      },
      "file_extension": ".py",
      "mimetype": "text/x-python",
      "name": "python",
      "nbconvert_exporter": "python",
      "pygments_lexer": "ipython3",
      "version": "3.10.5"
    }
  },
  "nbformat": 4,
  "nbformat_minor": 0
}
