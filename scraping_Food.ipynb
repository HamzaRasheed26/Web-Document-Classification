{
  "cells": [
    {
      "cell_type": "markdown",
      "metadata": {
        "id": "_-dPXCb5Po7v"
      },
      "source": [
        "# **Classification of Documents Using Graph-Based Features and KNN**"
      ]
    },
    {
      "cell_type": "markdown",
      "metadata": {
        "id": "jFr_VvdfP1Q4"
      },
      "source": [
        "## **1. Food Data Collection and Preparation:**\n",
        "Collect or create 15 pages of text for each of the three assigned topics, ensuring each\n",
        "page contains approximately 500 words."
      ]
    },
    {
      "cell_type": "markdown",
      "metadata": {
        "id": "aeZtatnEQ1zK"
      },
      "source": [
        "**Import necessary libraries**"
      ]
    },
    {
      "cell_type": "code",
      "execution_count": 1,
      "metadata": {
        "id": "k_RulPVWPUzT"
      },
      "outputs": [],
      "source": [
        "import requests\n",
        "from bs4 import BeautifulSoup\n",
        "import os\n",
        "import json\n",
        "import csv"
      ]
    },
    {
      "cell_type": "markdown",
      "metadata": {
        "id": "_sn_JaewRN0W"
      },
      "source": [
        "**Function to scrape articles links from a given URL**"
      ]
    },
    {
      "cell_type": "code",
      "execution_count": 2,
      "metadata": {
        "id": "vQ9soLtARF6U"
      },
      "outputs": [],
      "source": [
        "def scrape_articles_links(url):\n",
        "    try:\n",
        "        response = requests.get(url)\n",
        "        soup = BeautifulSoup(response.text, 'html.parser')\n",
        "        articles = soup.find('section', class_='o-ListArticle')\n",
        "        links = [\"https:\" + a['href'] for a in articles.find_all('a', href=True)]\n",
        "        return links\n",
        "    except Exception as e:\n",
        "        print(f\"Error scraping links from {url}: {e}\")\n",
        "        return None"
      ]
    },
    {
      "cell_type": "markdown",
      "metadata": {
        "id": "tOiD3I6nRi8W"
      },
      "source": [
        "**Function to process links**"
      ]
    },
    {
      "cell_type": "code",
      "execution_count": 3,
      "metadata": {
        "id": "lH4kiRsTRtnv"
      },
      "outputs": [],
      "source": [
        "def process_links(articles_links):\n",
        "    links = []\n",
        "    for i in range(0,len(articles_links),2):\n",
        "        if articles_links[i] == \"https:#\" or articles_links[i].startswith(\"https://www.foodnetwork.com/healthy/articles/p\"):\n",
        "            break\n",
        "        links.append(articles_links[i])\n",
        "    return links"
      ]
    },
    {
      "cell_type": "markdown",
      "metadata": {
        "id": "iHHHpdrkR51_"
      },
      "source": [
        "**Function to scrape data from a given URL**"
      ]
    },
    {
      "cell_type": "code",
      "execution_count": 4,
      "metadata": {
        "id": "ZvwFtq9DR_zC"
      },
      "outputs": [],
      "source": [
        "def scrape_data(url):\n",
        "    article = {}\n",
        "    try:\n",
        "        response = requests.get(url)\n",
        "        soup = BeautifulSoup(response.text, 'html.parser')\n",
        "        article_content = soup.find('article', class_='article-content')\n",
        "        if article_content:\n",
        "            article['title'] = article_content.find('div', class_='assetTitle').get_text().replace('\\n', '')\n",
        "            body = article_content.find('div', class_='article-body')\n",
        "            paras = body.find_all('div', class_='customRTE smartbody-core section')\n",
        "            article['body'] = ' '.join([p.get_text() for p in paras]).replace('\\n', '')\n",
        "            article['words_count'] = len(article['body'].split())\n",
        "        return article\n",
        "    except Exception as e:\n",
        "        print(f\"Error scraping data from {url}: {e}\")\n",
        "        return None"
      ]
    },
    {
      "cell_type": "markdown",
      "metadata": {
        "id": "xu3Kl8BHSSg3"
      },
      "source": [
        "**Function to save scraped data (dictionary) to a file as JSON format**"
      ]
    },
    {
      "cell_type": "code",
      "execution_count": 5,
      "metadata": {
        "id": "mBk5EEyKSViD"
      },
      "outputs": [],
      "source": [
        "def save_to_json(data, filename):\n",
        "    try:\n",
        "        with open(filename, 'w', encoding='utf-8') as f:\n",
        "            json.dump(data, f, ensure_ascii=False, indent=4)\n",
        "        print(f\"Data saved to {filename}\")\n",
        "    except Exception as e:\n",
        "        print(f\"Error saving data to {filename}: {e}\")"
      ]
    },
    {
      "cell_type": "markdown",
      "metadata": {
        "id": "_Sy0hcwiTkkY"
      },
      "source": [
        "**Function to save scraped data (dictionary) to a file as CSV format**"
      ]
    },
    {
      "cell_type": "code",
      "execution_count": 12,
      "metadata": {
        "id": "7mGpAYEETp_M"
      },
      "outputs": [],
      "source": [
        "def save_to_csv(data, filename):\n",
        "  try:\n",
        "    with open(filename, 'w', newline='', encoding='utf-8') as csvfile:\n",
        "      fieldnames = ['label', 'title', 'body', 'words_count']\n",
        "      writer = csv.DictWriter(csvfile, fieldnames=fieldnames)\n",
        "      writer.writeheader()\n",
        "      for article in data:\n",
        "          writer.writerow({'label': article['label'], 'title': article['title'], 'body': article['body'], 'words_count': article['words_count']})\n",
        "    print(f\"Data saved to {filename}\")\n",
        "  except Exception as e:\n",
        "        print(f\"Error saving data to {filename}: {e}\")"
      ]
    },
    {
      "cell_type": "markdown",
      "metadata": {
        "id": "DUv3Gb25SqHg"
      },
      "source": [
        "**Function to scrape articles**"
      ]
    },
    {
      "cell_type": "code",
      "execution_count": 10,
      "metadata": {
        "id": "smz9FQVRSref"
      },
      "outputs": [],
      "source": [
        "def scrape_articles(url_base, pages, min_articles):\n",
        "    articles_data = []\n",
        "    articles_count = 0\n",
        "    for i in range(1, pages + 1):\n",
        "        url = f\"{url_base}/p/{i}\"\n",
        "        print(\"Page Link:\" + url)\n",
        "        articles_links = scrape_articles_links(url)\n",
        "        links = process_links(articles_links)\n",
        "        for link in links:\n",
        "            data = scrape_data(link)\n",
        "            if data and data.get('words_count', 0) > 500:\n",
        "                print(f\"Article {articles_count + 1} - {data['title']} - {data['words_count']} words\")\n",
        "                articles_data.append({'index': articles_count + 1, 'label': 'Food', **data})\n",
        "                articles_count += 1\n",
        "                if articles_count >= min_articles:\n",
        "                    return articles_data\n",
        "    return articles_data"
      ]
    },
    {
      "cell_type": "markdown",
      "metadata": {
        "id": "Cb3ixf_dSzHL"
      },
      "source": [
        "Main function"
      ]
    },
    {
      "cell_type": "code",
      "execution_count": 13,
      "metadata": {
        "colab": {
          "base_uri": "https://localhost:8080/"
        },
        "id": "lSbMQOgHS03T",
        "outputId": "d13519ca-1b34-4423-9111-c6df51a135fc"
      },
      "outputs": [
        {
          "name": "stdout",
          "output_type": "stream",
          "text": [
            "Page Link:https://www.foodnetwork.com/healthy/articles/p/1\n",
            "Article 1 - Canola vs. Vegetable Oil: What’s the Difference? - 804 words\n",
            "Article 2 - The Truth Behind These Super-Common Sports Nutrition Myths - 747 words\n",
            "Article 3 - The Ultimate Healthy Cooking Playlist - 518 words\n",
            "Article 4 - The FDA Just Approved a Major Health Claim for Yogurt - 694 words\n",
            "Article 5 - Zero Waste: 7 Ways You Can Protect the Environment When You Shop - 615 words\n",
            "Article 6 - Are We Drinking Too Much? New Guidelines Suggest We Might Be - 609 words\n",
            "Page Link:https://www.foodnetwork.com/healthy/articles/p/2\n",
            "Article 7 - The Chef's Take: Grains and Egg Bowl from Camille Becerra - 627 words\n",
            "Article 8 - The Chef's Take: Lentil, Avocado and Kale Salad from Franklin Becker - 563 words\n",
            "Article 9 - Are You a Healthy Snacker? - 504 words\n",
            "Article 10 - Market Watch: Pomegranates - 506 words\n",
            "Article 11 - Ask The Experts: 11 Healthy Cooking Mistakes - 1149 words\n",
            "Article 12 - Taste Test: Fast Food Oatmeal - 793 words\n",
            "Article 13 - Lactose Intolerance 101 - 1023 words\n",
            "Article 14 - 8 Health Goals to Make Now - 863 words\n",
            "Page Link:https://www.foodnetwork.com/healthy/articles/p/3\n",
            "Article 15 - 5 Snacks to Fight Off Hunger - 620 words\n",
            "Data saved to articles/food_articles.json\n",
            "Data saved to articles/food_articles.csv\n"
          ]
        }
      ],
      "source": [
        "# URL to scrape\n",
        "food_url = 'https://www.foodnetwork.com/healthy/articles'\n",
        "pages = 5  # Number of pages to scrape\n",
        "min_articles = 15  # Minimum number of articles to scrape\n",
        "\n",
        "# Scrape articles\n",
        "articles_data = scrape_articles(food_url, pages, min_articles)\n",
        "\n",
        "# Create a directory to save the articles\n",
        "os.makedirs(\"articles\", exist_ok=True)\n",
        "json_file = 'articles/food_articles.json'\n",
        "csv_file = 'articles/food_articles.csv'\n",
        "\n",
        "# Save to JSON file\n",
        "save_to_json(articles_data, json_file)\n",
        "# Save to CSV file\n",
        "save_to_csv(articles_data, csv_file)"
      ]
    }
  ],
  "metadata": {
    "colab": {
      "provenance": []
    },
    "kernelspec": {
      "display_name": "Python 3",
      "name": "python3"
    },
    "language_info": {
      "codemirror_mode": {
        "name": "ipython",
        "version": 3
      },
      "file_extension": ".py",
      "mimetype": "text/x-python",
      "name": "python",
      "nbconvert_exporter": "python",
      "pygments_lexer": "ipython3",
      "version": "3.10.5"
    }
  },
  "nbformat": 4,
  "nbformat_minor": 0
}
